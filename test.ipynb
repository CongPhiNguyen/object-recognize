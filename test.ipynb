{
 "cells": [
  {
   "cell_type": "code",
   "execution_count": 16,
   "metadata": {},
   "outputs": [],
   "source": [
    "import cv2\n",
    "import numpy as np"
   ]
  },
  {
   "cell_type": "code",
   "execution_count": 5,
   "metadata": {},
   "outputs": [],
   "source": [
    "model_weights = \"C:/CongPhi/personal-project/recognize/yolov3.weights\"\n",
    "model_config = \"C:/CongPhi/personal-project/recognize/yolov3.cfg\""
   ]
  },
  {
   "cell_type": "code",
   "execution_count": 6,
   "metadata": {},
   "outputs": [],
   "source": [
    "net = cv2.dnn.readNetFromDarknet(model_config, model_weights)"
   ]
  },
  {
   "cell_type": "code",
   "execution_count": 14,
   "metadata": {},
   "outputs": [],
   "source": [
    "class_names = []\n",
    "with open(\"C:/CongPhi/personal-project/recognize/coco.names\", \"r\") as f:\n",
    "    class_names = [line.strip() for line in f.readlines()]"
   ]
  },
  {
   "cell_type": "code",
   "execution_count": null,
   "metadata": {},
   "outputs": [],
   "source": [
    "img_path = \"C:/CongPhi/personal-project/recognize/test.jpg\""
   ]
  },
  {
   "cell_type": "code",
   "execution_count": 24,
   "metadata": {},
   "outputs": [],
   "source": [
    "def run_recognize(img_path):\n",
    "  image = cv2.imread(img_path)\n",
    "  blob = cv2.dnn.blobFromImage(image, 1/255.0, (416, 416), swapRB=True, crop=False)\n",
    "\n",
    "  net.setInput(blob)\n",
    "  output_layers = net.getUnconnectedOutLayersNames()\n",
    "  layer_outputs = net.forward(output_layers)\n",
    "  \n",
    "  conf_threshold = 0.5\n",
    "  nms_threshold = 0.4 \n",
    "\n",
    "  height, width = image.shape[:2]\n",
    "  boxes = []\n",
    "  class_ids = []\n",
    "  confidences = []\n",
    "\n",
    "  for output in layer_outputs:\n",
    "    for detection in output:\n",
    "        scores = detection[5:]\n",
    "        class_id = np.argmax(scores)\n",
    "        confidence = scores[class_id]\n",
    "\n",
    "        if confidence > conf_threshold:\n",
    "            center_x = int(detection[0] * width)\n",
    "            center_y = int(detection[1] * height)\n",
    "            bbox_width = int(detection[2] * width)\n",
    "            bbox_height = int(detection[3] * height)\n",
    "            x = int(center_x - bbox_width / 2)\n",
    "            y = int(center_y - bbox_height / 2)\n",
    "\n",
    "            boxes.append([x, y, bbox_width, bbox_height])\n",
    "            class_ids.append(class_id)\n",
    "            confidences.append(float(confidence))\n",
    "    # Áp dụng Non-maximum suppression để loại bỏ các khu vực trùng lắp\n",
    "  indices = cv2.dnn.NMSBoxes(boxes, confidences, conf_threshold, nms_threshold)\n",
    "\n",
    "  # Vẽ khung bao quanh vùng quan tâm và ghi nhãn\n",
    "  for i in indices:\n",
    "      x, y, w, h = boxes[i]\n",
    "      label = class_names[class_ids[i]]\n",
    "      confidence = confidences[i]\n",
    "\n",
    "      cv2.rectangle(image, (x, y), (x+w, y+h), (0, 255, 0), 2)\n",
    "      cv2.putText(image, f\"{label}: {confidence:.2f}\", (x, y-10),\n",
    "                  cv2.FONT_HERSHEY_SIMPLEX, 0.5, (0, 255, 0), 2)\n",
    "  output_image_path = \"output_image_2.jpg\"  # Thay đổi đường dẫn và tên tệp tin theo ý muốn\n",
    "\n",
    "  cv2.imwrite(output_image_path, image)\n",
    "  print(\"Đã xuất ra tấm hình kết quả.\")"
   ]
  },
  {
   "cell_type": "code",
   "execution_count": 29,
   "metadata": {},
   "outputs": [
    {
     "name": "stdout",
     "output_type": "stream",
     "text": [
      "Đã xuất ra tấm hình kết quả.\n"
     ]
    }
   ],
   "source": [
    "run_recognize('C:\\CongPhi\\personal-project\\\\recognize\\\\398047893_991758378577331_4795686747233564293_n.jpg')"
   ]
  },
  {
   "cell_type": "code",
   "execution_count": 10,
   "metadata": {},
   "outputs": [],
   "source": []
  },
  {
   "cell_type": "code",
   "execution_count": 11,
   "metadata": {},
   "outputs": [],
   "source": []
  },
  {
   "cell_type": "code",
   "execution_count": 12,
   "metadata": {},
   "outputs": [],
   "source": []
  },
  {
   "cell_type": "code",
   "execution_count": 13,
   "metadata": {},
   "outputs": [],
   "source": []
  },
  {
   "cell_type": "code",
   "execution_count": 17,
   "metadata": {},
   "outputs": [],
   "source": []
  },
  {
   "cell_type": "code",
   "execution_count": null,
   "metadata": {},
   "outputs": [],
   "source": []
  },
  {
   "cell_type": "code",
   "execution_count": 21,
   "metadata": {},
   "outputs": [
    {
     "name": "stdout",
     "output_type": "stream",
     "text": [
      "Đã xuất ra tấm hình kết quả.\n"
     ]
    }
   ],
   "source": []
  }
 ],
 "metadata": {
  "kernelspec": {
   "display_name": "Python 3",
   "language": "python",
   "name": "python3"
  },
  "language_info": {
   "codemirror_mode": {
    "name": "ipython",
    "version": 3
   },
   "file_extension": ".py",
   "mimetype": "text/x-python",
   "name": "python",
   "nbconvert_exporter": "python",
   "pygments_lexer": "ipython3",
   "version": "3.11.5"
  }
 },
 "nbformat": 4,
 "nbformat_minor": 2
}
